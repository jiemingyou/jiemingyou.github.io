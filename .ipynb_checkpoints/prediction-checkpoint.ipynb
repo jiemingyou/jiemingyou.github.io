{
 "cells": [
  {
   "cell_type": "raw",
   "id": "8eaa9367",
   "metadata": {},
   "source": [
    "---\n",
    "title: \"Choice Prediction and Assortment Optimization using Random Forest Regressor\"\n",
    "subtitle: \"IE4214 Pricing Analytics and Revenue Management Group Project (modified)\"\n",
    "bibliography: references.bib\n",
    "\n",
    "author:\n",
    "    - Jieming You\n",
    "    - Zechen Ma\n",
    "    - Ilkka Lappeteläinen\n",
    "    - Dennis Lo\n",
    "date: today\n",
    "\n",
    "format:\n",
    "  html:\n",
    "      toc: true\n",
    "      number-sections: false\n",
    "      \n",
    "  pdf:\n",
    "    number-sections: false\n",
    "    code-block-bg: true\n",
    "    classoption: horizontal, a4paper\n",
    "    papersize: A4\n",
    "---"
   ]
  },
  {
   "cell_type": "code",
   "execution_count": 1,
   "id": "3c5a7b2c-9196-405d-81d1-c804530b4e9e",
   "metadata": {},
   "outputs": [],
   "source": [
    "import numpy as np\n",
    "import pandas as pd\n",
    "import matplotlib.pyplot as plt\n",
    "import seaborn as sns\n",
    "\n",
    "from itertools import groupby, combinations\n",
    "from copy import deepcopy\n",
    "from math import *\n",
    "import random\n",
    "import ast\n",
    "\n",
    "from sklearn.model_selection import train_test_split\n",
    "from sklearn.ensemble import RandomForestRegressor\n",
    "from sklearn.metrics import mean_squared_error, r2_score\n",
    "\n",
    "sns.set_theme(style=\"white\")"
   ]
  },
  {
   "cell_type": "code",
   "execution_count": 13,
   "id": "06417db1",
   "metadata": {},
   "outputs": [],
   "source": [
    "#| echo: false\n",
    "\n",
    "assort_temp = []\n",
    "prob_temp = []\n",
    "with open(\"data/assortment.txt\",\"r\") as f, open(\"data/probability.txt\",\"r\") as g:\n",
    "    for line1, line2 in zip(f, g):\n",
    "        assort_temp.append(ast.literal_eval(line1))\n",
    "        prob_temp.append(ast.literal_eval(line2))"
   ]
  },
  {
   "cell_type": "markdown",
   "id": "26d792c4-040f-47b2-abbd-e90e720b4977",
   "metadata": {},
   "source": [
    "# Introduction"
   ]
  },
  {
   "cell_type": "markdown",
   "id": "0a46d3cb-c8a7-4277-aab6-cb8321912cc1",
   "metadata": {},
   "source": [
    "This report analyzes a pricing and assortment optimization problem by solving several tasks. The problem consists of 5 different stock-keeping-units (SKUs): $[a,b,c,d,e,f]$. Each SKU has 5 different price levels: $[3000, 2700, 2400, 2100, 1800]$, meaning that there are 30 unique products in total.\n",
    "\n",
    "A dataset ``assortment.txt`` is provided where each line in the dataset represents an assortment containing a set of the above-mentioned SKUs, with each SKU having one of the five price levels. In the dataset, the 30 products are assigned a number from 1 to 30 by ordering the products from SKU $a$ to $f$. Furthermore, within each SKU, the products are ordered from the highest to the lowest price level. For example, SKU $b$ with the price 2700 will be represented as the number 7.  In total, there are 2500 assortments."
   ]
  },
  {
   "cell_type": "code",
   "execution_count": 26,
   "id": "8b556177",
   "metadata": {},
   "outputs": [
    {
     "data": {
      "text/html": [
       "<div>\n",
       "<style scoped>\n",
       "    .dataframe tbody tr th:only-of-type {\n",
       "        vertical-align: middle;\n",
       "    }\n",
       "\n",
       "    .dataframe tbody tr th {\n",
       "        vertical-align: top;\n",
       "    }\n",
       "\n",
       "    .dataframe thead th {\n",
       "        text-align: right;\n",
       "    }\n",
       "</style>\n",
       "<table border=\"1\" class=\"dataframe\">\n",
       "  <thead>\n",
       "    <tr style=\"text-align: right;\">\n",
       "      <th></th>\n",
       "      <th>assortments.txt</th>\n",
       "    </tr>\n",
       "  </thead>\n",
       "  <tbody>\n",
       "    <tr>\n",
       "      <th>0</th>\n",
       "      <td>[0, 2]</td>\n",
       "    </tr>\n",
       "    <tr>\n",
       "      <th>1</th>\n",
       "      <td>[0, 22, 27]</td>\n",
       "    </tr>\n",
       "    <tr>\n",
       "      <th>2</th>\n",
       "      <td>[0, 7, 17, 22]</td>\n",
       "    </tr>\n",
       "    <tr>\n",
       "      <th>3</th>\n",
       "      <td>[0, 17, 7, 21, 14]</td>\n",
       "    </tr>\n",
       "    <tr>\n",
       "      <th>4</th>\n",
       "      <td>[0, 7, 2, 25, 30, 13]</td>\n",
       "    </tr>\n",
       "  </tbody>\n",
       "</table>\n",
       "</div>"
      ],
      "text/plain": [
       "         assortments.txt\n",
       "0                 [0, 2]\n",
       "1            [0, 22, 27]\n",
       "2         [0, 7, 17, 22]\n",
       "3     [0, 17, 7, 21, 14]\n",
       "4  [0, 7, 2, 25, 30, 13]"
      ]
     },
     "execution_count": 26,
     "metadata": {},
     "output_type": "execute_result"
    }
   ],
   "source": [
    "#| warning: false\n",
    "#| echo: false\n",
    "\n",
    "pd.DataFrame({\n",
    "    \"assortments.txt\": assort_temp\n",
    "}).head()"
   ]
  },
  {
   "cell_type": "markdown",
   "id": "a005e10a",
   "metadata": {},
   "source": [
    "Another dataset ``probability.txt`` is provided which has an identical structure. However, this dataset represents the choice probability of a product in the assortment instead of the product itself. In order to solve the tasks related to this problem, these datasets must first be preprocessed, which is elaborated in the following section."
   ]
  },
  {
   "cell_type": "code",
   "execution_count": 27,
   "id": "c8b2aa70",
   "metadata": {},
   "outputs": [
    {
     "data": {
      "text/html": [
       "<div>\n",
       "<style scoped>\n",
       "    .dataframe tbody tr th:only-of-type {\n",
       "        vertical-align: middle;\n",
       "    }\n",
       "\n",
       "    .dataframe tbody tr th {\n",
       "        vertical-align: top;\n",
       "    }\n",
       "\n",
       "    .dataframe thead th {\n",
       "        text-align: right;\n",
       "    }\n",
       "</style>\n",
       "<table border=\"1\" class=\"dataframe\">\n",
       "  <thead>\n",
       "    <tr style=\"text-align: right;\">\n",
       "      <th></th>\n",
       "      <th>probabilities.txt</th>\n",
       "    </tr>\n",
       "  </thead>\n",
       "  <tbody>\n",
       "    <tr>\n",
       "      <th>0</th>\n",
       "      <td>[0.617, 0.383]</td>\n",
       "    </tr>\n",
       "    <tr>\n",
       "      <th>1</th>\n",
       "      <td>[0.49, 0.386, 0.124]</td>\n",
       "    </tr>\n",
       "    <tr>\n",
       "      <th>2</th>\n",
       "      <td>[0.174, 0.448, 0.298, 0.08]</td>\n",
       "    </tr>\n",
       "    <tr>\n",
       "      <th>3</th>\n",
       "      <td>[0.134, 0.193, 0.365, 0.047, 0.261]</td>\n",
       "    </tr>\n",
       "    <tr>\n",
       "      <th>4</th>\n",
       "      <td>[0.095, 0.426, 0.023, 0.155, 0.003, 0.298]</td>\n",
       "    </tr>\n",
       "  </tbody>\n",
       "</table>\n",
       "</div>"
      ],
      "text/plain": [
       "                            probabilities.txt\n",
       "0                              [0.617, 0.383]\n",
       "1                        [0.49, 0.386, 0.124]\n",
       "2                 [0.174, 0.448, 0.298, 0.08]\n",
       "3         [0.134, 0.193, 0.365, 0.047, 0.261]\n",
       "4  [0.095, 0.426, 0.023, 0.155, 0.003, 0.298]"
      ]
     },
     "execution_count": 27,
     "metadata": {},
     "output_type": "execute_result"
    }
   ],
   "source": [
    "#| warning: false\n",
    "#| echo: false\n",
    "roundlst = lambda lst: [round(x,3) for x in lst]\n",
    "\n",
    "prob_rounded = [roundlst(x) for x in prob_temp]\n",
    "pd.DataFrame({\n",
    "    \"probabilities.txt\": prob_rounded\n",
    "}).head()"
   ]
  },
  {
   "cell_type": "markdown",
   "id": "09f9bb8d",
   "metadata": {},
   "source": [
    "\\pagebreak"
   ]
  },
  {
   "cell_type": "markdown",
   "id": "5526293e-4a9d-45ab-a529-d7d6ee56b495",
   "metadata": {
    "tags": []
   },
   "source": [
    "# Data preparation\n",
    "\n",
    "The provided data are first read from the text files."
   ]
  },
  {
   "cell_type": "code",
   "execution_count": 83,
   "id": "803a1bbc-3dd6-4bbb-94f3-9692d3b3d6bc",
   "metadata": {},
   "outputs": [],
   "source": [
    "assort_temp = []\n",
    "prob_temp = []\n",
    "with open(\"assortment.txt\",\"r\") as f, open(\"probability.txt\",\"r\") as g:\n",
    "    for line1, line2 in zip(f, g):\n",
    "        assort_temp.append(ast.literal_eval(line1))\n",
    "        prob_temp.append(ast.literal_eval(line2))"
   ]
  },
  {
   "cell_type": "markdown",
   "id": "4f1f3d1a",
   "metadata": {},
   "source": [
    "As the original dataset contains duplicate rows, they are removed before any further data processing. Moreover, as the customer choice model appears to be determinisitic, the duplicates will not provide additional information about the customers' choice logic."
   ]
  },
  {
   "cell_type": "code",
   "execution_count": 84,
   "id": "8ff2b19d",
   "metadata": {},
   "outputs": [],
   "source": [
    "# Removes duplicates\n",
    "def remove_duplicates(lst):\n",
    "    seen = []\n",
    "    for i in lst:\n",
    "        if i not in seen:\n",
    "            seen.append(i)\n",
    "    return seen"
   ]
  },
  {
   "cell_type": "code",
   "execution_count": 85,
   "id": "54aadcef",
   "metadata": {},
   "outputs": [],
   "source": [
    "assort = remove_duplicates(assort_temp)\n",
    "prob = remove_duplicates(prob_temp)"
   ]
  },
  {
   "cell_type": "markdown",
   "id": "ae78bfb1",
   "metadata": {},
   "source": [
    "Our aim is to create a model that predicts the choice probability of a product given the other products in the assortment."
   ]
  },
  {
   "cell_type": "markdown",
   "id": "2d9fe904",
   "metadata": {},
   "source": [
    "Instead of predicting the choice distribution of the whole assortment, it would be easier to predict the choice probability of a single product, given the other available products in the assortment.\n",
    "\n",
    "For example, instead of coming up with a choice probability distribution for the assortment $[0, 5, 9]$, one might ask what is the probability of customer choosing product 5, given that the other options are not buying anything (0) and product 9.\n",
    "\n",
    "The next subsections will cover the feature engineering and construction of the features and labels.\n",
    "\n",
    "## Labels\n",
    "\n",
    "The choice probabilities provided in the ``probabilities.txt`` file are $n$-dimensional arrays with $n$ discrete choice options. In order to simplify our model and reduce the amount of model training required, we reduced the dimension of the label space by splitting each array (choice probability distribution) into $n$ distinct labels, each consisting of a single probability. This way, instead of predicting an array of probabilities, we are only predicting the choice probability of a single product.\n",
    "\n",
    "$$\n",
    "\\begin{aligned}\n",
    "\\text{original array} & & \\text{labels} \\\\\n",
    "\\left[\\textcolor{red}{0.4}, \\textcolor{OliveGreen}{0.1}, \\textcolor{blue}{0.5}\\right] & \\longrightarrow & [\\textcolor{red}{0.4}] \\\\\n",
    "&& [\\textcolor{OliveGreen}{0.1}] \\\\\n",
    "&&[\\textcolor{blue}{0.5}]\n",
    "\\end{aligned}\n",
    "$$\n",
    "\n",
    "## Features\n",
    "\n",
    "Each assortment array is also split into $n$ feature vectors as follows; for each product in an assortment:\n",
    "\n",
    "1) Set the product as the first feature $x_1$\n",
    "\n",
    "$$\n",
    "\\begin{aligned}\n",
    "\\text{original array} & & \\text{feature vectors} \\\\\n",
    "\\left[\\textcolor{red}{0}, \\textcolor{OliveGreen}{5}, \\textcolor{blue}{9}\\right] & \\longrightarrow & [\\textcolor{red}{0} \\\\\n",
    "&& [\\textcolor{OliveGreen}{5}\\\\\n",
    "&& [\\textcolor{blue}{9}\n",
    "\\end{aligned}\n",
    "$$\n",
    "\n",
    "\n",
    "2) Encode the information of the other products in the assortment using multi-hot-encoding, also known as multi-label-binarizing\n",
    "\n",
    "Because each assortment has varying amounts of products, the multi-hot-encoding is used to standardize the length of the feature vectors.\n",
    "\n",
    "As there is an outside option and thirty (30) different products, the multi-label-binarizer has a shape of ```(1,31)```. For example, an assortment $[0,5,9]$ can be represented as \n",
    "\n",
    "$$\n",
    "\\begin{aligned}\n",
    "\\text{Assortment} \\quad & [\\textcolor{red}{0}, \\textcolor{OliveGreen}{5}, \\textcolor{blue}{9}]\\\\\n",
    "\\text{Multi-hot} \\quad & [\\textcolor{red}{1},0,0,0,0,\\textcolor{OliveGreen}{1},0,0,0,\\textcolor{blue}{1},0,0,0,0,0,0,0,0,0,0,0,0,0,0,0,0,0,0,0,0,0]\n",
    "\\end{aligned}\n",
    "$$\n",
    "\n",
    "\n",
    "Hence, the final feature vectors are\n",
    "\n",
    "$$\n",
    "\\begin{aligned}\n",
    "\\text{original array} &&  && \\text{feature vectors}\\\\\n",
    "[\\textcolor{red}{0}, \\textcolor{OliveGreen}{5}, \\textcolor{blue}{9}] && \\longrightarrow && [\\textcolor{red}{0},~ (0, 0, 0, 0, 0, \\textcolor{OliveGreen}{1}, 0, 0, 0, \\textcolor{blue}{1}, 0, ..., 0)]\\\\\n",
    "&&&& [\\textcolor{OliveGreen}{5}, ~(\\textcolor{red}{1}, 0, 0, 0, 0, 0, 0, 0, 0, \\textcolor{blue}{1}, 0, ..., 0)]\\\\\n",
    "&&&& [\\textcolor{blue}{9}, ~(\\textcolor{red}{1}, 0, 0, 0, 0, \\textcolor{OliveGreen}{1}, 0, 0, 0, 0, 0, ..., 0)]\n",
    "\\end{aligned}\n",
    "$$\n",
    "\n",
    "After performing the transformations, we have a total of 8617 data points. The data points are finally split into separate training and testing sets. For the initial training, we will use the conventional 80-20 split and shuffle the datapoints to reduce the risk of overfitting.\n"
   ]
  },
  {
   "cell_type": "code",
   "execution_count": 86,
   "id": "dfc11031",
   "metadata": {},
   "outputs": [],
   "source": [
    "TEST_SIZE = 0.2    # Size of test set\n",
    "SHUFFLE = True     # Shuffle the datapoints\n",
    "RANDOM_STATE = 42  # For reproducibility"
   ]
  },
  {
   "cell_type": "markdown",
   "id": "7c9f8eeb-d915-4354-b3a1-28fdf4486f5d",
   "metadata": {},
   "source": [
    "## Setting up the data\n",
    "\n",
    "Functions used for the data transformation can be found at Appendix A.\n",
    "\n",
    "Transforming the data and splitting it into training and testing set"
   ]
  },
  {
   "cell_type": "code",
   "execution_count": 87,
   "id": "5b9775d6",
   "metadata": {},
   "outputs": [],
   "source": [
    "#| echo: false\n",
    "\n",
    "# Multi label binarizer\n",
    "def mlb(X2, n=31):\n",
    "    encoded = [0]*n    \n",
    "\n",
    "    if isinstance(X2, int):\n",
    "        encoded[X2] = 1\n",
    "        return encoded\n",
    "    \n",
    "    for i in X2:\n",
    "        encoded[i] = 1\n",
    "    \n",
    "    return encoded\n",
    "    \n",
    "\n",
    "# Function for splitting the original datapoint\n",
    "def transform(X_i, y_i):\n",
    "    n = len(X_i)\n",
    "    feature = np.empty(n, dtype=object)\n",
    "    label = np.empty(n, dtype=object)\n",
    "    \n",
    "    for i in range(n):\n",
    "        x2 = X_i[:i] + X_i[i+1:]\n",
    "        x2 = mlb(x2)\n",
    "        feature[i] = [X_i[i]] + x2\n",
    "        label[i] = y_i[i]\n",
    "        \n",
    "    return feature, label\n",
    "\n",
    "\n",
    "# Function for splitting the original dataopoint for features only\n",
    "def transformX(X_i):\n",
    "    n = len(X_i)\n",
    "    feature = np.empty(n, dtype=object)\n",
    "    \n",
    "    for i in range(n):\n",
    "        x2 = X_i[:i] + X_i[i+1:]\n",
    "        x2 = mlb(x2)\n",
    "        feature[i] = [X_i[i]] + x2\n",
    "        \n",
    "    return feature\n",
    "\n",
    "\n",
    "# Function for constructing the new dataset\n",
    "def transform_data(X, y):\n",
    "    n = sum([len(x) for x in X])\n",
    "    #X_transformed = np.empty(n, dtype=object)\n",
    "    #y_transformed = np.empty(n, dtype=object)\n",
    "    X_transformed = []\n",
    "    y_transformed = []\n",
    "    \n",
    "    #idx = 0\n",
    "    for i in range(len(X)):\n",
    "        X_i_t, y_i_t = transform(X[i], y[i])\n",
    "        for xit, yit in zip(X_i_t, y_i_t):\n",
    "            #X_transformed[idx] = xit\n",
    "            #y_transformed[idx] = yit\n",
    "            X_transformed.append(xit)\n",
    "            y_transformed.append(yit)\n",
    "            #idx += 1\n",
    "        \n",
    "    return X_transformed, y_transformed\n",
    "\n",
    "def assortment_mse(y_preds, y_labels):\n",
    "    \n",
    "    # From decimals to percentages\n",
    "    y_preds_pct = np.array([a * 100 for a in y_preds], dtype=object)\n",
    "    y_labels_pct = np.array([np.array(assortment) * 100 for assortment in y_labels], dtype=object)\n",
    "    \n",
    "    # Squared error\n",
    "    error = np.square(y_preds_pct - y_labels_pct)\n",
    "    \n",
    "    # Mean Squared error\n",
    "    MSE = [np.mean(x) for x in error]\n",
    "    \n",
    "    return MSE"
   ]
  },
  {
   "cell_type": "code",
   "execution_count": 88,
   "id": "8f4087d8-02ef-40f1-8ce0-d052d216f66b",
   "metadata": {},
   "outputs": [],
   "source": [
    "# Splitting\n",
    "X_train_raw, X_test_raw, y_train_raw, y_test_raw = train_test_split(\n",
    "    assort, prob, test_size=TEST_SIZE, shuffle=SHUFFLE,\n",
    "    random_state=RANDOM_STATE\n",
    ")"
   ]
  },
  {
   "cell_type": "code",
   "execution_count": 89,
   "id": "c1a838cd",
   "metadata": {},
   "outputs": [],
   "source": [
    "# Constructing the features and lables\n",
    "X_train, y_train = transform_data(X_train_raw, y_train_raw)\n",
    "X_test, y_test = transform_data(X_test_raw, y_test_raw)"
   ]
  },
  {
   "cell_type": "markdown",
   "id": "9af1cfc3-ba04-432c-816a-a53a254de098",
   "metadata": {},
   "source": [
    "# Model\n",
    "\n",
    "We have chosen to use the Random Forest Regressor from Scikit-learn to predict the numerical choice probabilities. A random forest is a set (ensemble) of different decision trees. Each of these decision trees is obtained by fitting a perturbed copy of the original dataset (Jung, 2022). Each decision tree then gives a prediction of the target variable and the final prediction is the average of all the predictions. The random forest regressor has been superior to, for example, a single decision tree or gradient tree boosting, because it handles outliers, missing values and overfitting better due to the averaging. \n",
    "\n",
    "The main parameter in our model is the max depth parameter, which specifies the maximum depth of each decision tree from root node to leaf node. A deep node makes the model more complex and thus more prone to overfitting. In our case, we determined the optimal max depth by plotting it against $R^2$ and MSE values (See @fig-mse). We can see that the $R^2$ and MSE values are converging when max depth is greater than 20. Thus, our model uses a max depth of 20."
   ]
  },
  {
   "cell_type": "code",
   "execution_count": 91,
   "id": "c10f87d6",
   "metadata": {
    "scrolled": false
   },
   "outputs": [
    {
     "data": {
      "image/png": "[encoded data removed]",
      "text/plain": [
       "<Figure size 640x480 with 2 Axes>"
      ]
     },
     "metadata": {},
     "output_type": "display_data"
    }
   ],
   "source": [
    "#| fig-cap: MSE and $R^2$ as a function of max depth parameter. The source code can be found at Appendix B\n",
    "#| label: fig-mse\n",
    "#| echo: false\n",
    "\n",
    "r2 = []\n",
    "mse = []\n",
    "\n",
    "for max_d in range(1,30):\n",
    "    \n",
    "    # Constructing the features and lables\n",
    "    X, y = transform_data(assort, prob)\n",
    "\n",
    "    # Splitting\n",
    "    X_train, X_test, y_train, y_test = train_test_split(\n",
    "        X, y, test_size=TEST_SIZE, shuffle=SHUFFLE\n",
    "    )\n",
    "\n",
    "    X_train = X_train\n",
    "    X_test  = X_test\n",
    "    y_train = y_train\n",
    "    y_test  = y_test\n",
    "    \n",
    "    # Initiating the model\n",
    "    reg = RandomForestRegressor(\n",
    "        max_depth = max_d,\n",
    "        random_state = RANDOM_STATE\n",
    "    )\n",
    "\n",
    "    # Fitting the model using training set\n",
    "    reg = reg.fit(X_train, y_train)\n",
    "\n",
    "    # Predicting the choice probabilities using the test set\n",
    "    y_pred = reg.predict(X_test)\n",
    "    \n",
    "    r2.append(r2_score(y_test, y_pred))\n",
    "    mse.append(mean_squared_error(y_test, y_pred))\n",
    "\n",
    "fig, ax = plt.subplots(1,1)\n",
    "sns.lineplot(x=range(1,30), y=r2, label=\"R2\")\n",
    "ax2 = plt.twinx()\n",
    "sns.lineplot(x=range(1,30), y=mse, ax=ax2, color=\"red\", label=\"MSE\")\n",
    "ax.set_xlabel(\"Max depth\")\n",
    "ax.set_ylabel(\"R2\")\n",
    "ax2.set_ylabel(\"MSE\")\n",
    "plt.show()"
   ]
  },
  {
   "cell_type": "markdown",
   "id": "fcbb0146",
   "metadata": {},
   "source": [
    "\\pagebreak"
   ]
  },
  {
   "cell_type": "markdown",
   "id": "f8a17522-db84-4ad5-9c2a-600032145dfb",
   "metadata": {},
   "source": [
    "We train the models using our training set and predict the choice probabilities using the test set."
   ]
  },
  {
   "cell_type": "code",
   "execution_count": 60,
   "id": "df593d14-4841-46b3-a975-35171c6979e1",
   "metadata": {},
   "outputs": [],
   "source": [
    "# Initiating the model and model using training set\n",
    "reg = RandomForestRegressor(max_depth = 20, random_state=RANDOM_STATE)\n",
    "reg = reg.fit(X_train, y_train)"
   ]
  },
  {
   "cell_type": "markdown",
   "id": "55adc43c",
   "metadata": {},
   "source": [
    "To make calculating the prediction easier, we created a wrapper function for prediction choice probabilitites given a product assortment and a choice model (in our case, the Random Forest Regressor)."
   ]
  },
  {
   "cell_type": "code",
   "execution_count": 61,
   "id": "5ccfbd21-dca0-46b2-a549-af317b35a8d5",
   "metadata": {},
   "outputs": [],
   "source": [
    "def predict(assortment: list[int], model=reg) -> list[float]:\n",
    "    X = transformX(assortment).tolist()\n",
    "    y_pred = model.predict(X)\n",
    "    y_pred_normalized = y_pred / sum(y_pred)\n",
    "    return y_pred_normalized"
   ]
  },
  {
   "cell_type": "markdown",
   "id": "1af1fd65-6d0e-478a-aa7c-084a0e55a97e",
   "metadata": {},
   "source": [
    "## Model evaluation"
   ]
  },
  {
   "cell_type": "markdown",
   "id": "dea1f1d2-5854-4ec3-af8b-f28590c55556",
   "metadata": {},
   "source": [
    "The model's predictive performance is assessed by calculating the mean-squared-error (MSE) of the predictions."
   ]
  },
  {
   "cell_type": "code",
   "execution_count": 62,
   "id": "7087a8bf",
   "metadata": {},
   "outputs": [
    {
     "name": "stdout",
     "output_type": "stream",
     "text": [
      "The average MSE for an assortment is 1.46 %pp\n",
      "The median MSE for an assortment is 0.51 %pp\n"
     ]
    }
   ],
   "source": [
    "# 1) Calculating the choice probabilities for the testing set\n",
    "y_preds = [ predict(assortment) for assortment in X_test_raw]\n",
    "    \n",
    "# 2) Calculating the mean MSE\n",
    "MSE_test = assortment_mse(y_preds, y_test_raw)\n",
    "print(f\"The average MSE for an assortment is {np.mean(MSE_test) :.2f} %pp\")\n",
    "print(f\"The median MSE for an assortment is {np.median(MSE_test) :.2f} %pp\")"
   ]
  },
  {
   "cell_type": "code",
   "execution_count": 80,
   "id": "45f8bb5d",
   "metadata": {},
   "outputs": [
    {
     "data": {
      "image/png": "[encoded data removed]",
      "text/plain": [
       "<Figure size 640x480 with 1 Axes>"
      ]
     },
     "metadata": {},
     "output_type": "display_data"
    }
   ],
   "source": [
    "#| fig-cap: Assortments' mean squared error (histogram). The source code can be found at Appendix C\n",
    "#| label: fig-histogram\n",
    "#| echo: false\n",
    "\n",
    "# Histogram\n",
    "sns.histplot(MSE_test, bins=50, edgecolor=\"black\", stat=\"density\")\n",
    "plt.xlabel(\"Percentage points (MSE)\")\n",
    "\n",
    "plt.xlim(0, 10)\n",
    "plt.subplots_adjust(hspace = 0.8)\n",
    "plt.show()"
   ]
  },
  {
   "cell_type": "markdown",
   "id": "49a17a17",
   "metadata": {},
   "source": [
    "The model performs well when tested on the testing set. The average MSE of the prediction for an assortment is under two percentage points. Furthermore, the median MSE is under one percentage point which indicates excellent prediction accuracy.\n",
    "\n",
    "As seen from @fig-histogram, the long tail of the histogram is the cause of the average MSE being significantly worse than the median MSE.\n",
    "\n",
    "In addition to the MSE, we can evaluate the popularity of the products by calculating the feature importance for the multi-hot encoded array. If a feature is important, its value has a significant effect on the prediction. In other words, the products with the highest corresponding importance are the most sought after as their presence in the assortment have a signicant impact on the choice probability of the other product.\n",
    "\n",
    "The feature importance of the produts are shown in @fig-features. Based on the observations, the products $a$, $e$, and $f$ are less popular, whereas the products $b$, $c$, and $d$ are more popular."
   ]
  },
  {
   "cell_type": "code",
   "execution_count": 66,
   "id": "436ada08-040c-428b-be55-5f14c62fd8a6",
   "metadata": {},
   "outputs": [
    {
     "data": {
      "image/png": "[encoded data removed]",
      "text/plain": [
       "<Figure size 640x480 with 1 Axes>"
      ]
     },
     "metadata": {},
     "output_type": "display_data"
    }
   ],
   "source": [
    "#| fig-cap: Feature importances of the products. The outside option ($x_2^{(i)}$) is omitted.\n",
    "#| label: fig-features\n",
    "feat_imp = pd.Series(reg.feature_importances_[2:])\n",
    "feat_imp.set_axis(range(1,31), inplace=True)\n",
    "feat_imp.plot(kind='barh')\n",
    "plt.show()"
   ]
  }
 ],
 "metadata": {
  "kernelspec": {
   "display_name": "Python 3 (ipykernel)",
   "language": "python",
   "name": "python3"
  },
  "language_info": {
   "codemirror_mode": {
    "name": "ipython",
    "version": 3
   },
   "file_extension": ".py",
   "mimetype": "text/x-python",
   "name": "python",
   "nbconvert_exporter": "python",
   "pygments_lexer": "ipython3",
   "version": "3.9.13"
  },
  "vscode": {
   "interpreter": {
    "hash": "8f986e46ea98c78dd76ad043d142fa374a7fb52e87dcb7a0e54d364044247d59"
   }
  }
 },
 "nbformat": 4,
 "nbformat_minor": 5
}
